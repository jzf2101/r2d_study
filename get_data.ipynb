{
 "cells": [
  {
   "cell_type": "code",
   "execution_count": 184,
   "metadata": {},
   "outputs": [],
   "source": [
    "from bs4 import BeautifulSoup\n",
    "import pandas as pd\n",
    "import requests\n",
    "import numpy as np \n",
    "import pdb"
   ]
  },
  {
   "cell_type": "code",
   "execution_count": 186,
   "metadata": {},
   "outputs": [],
   "source": [
    "soup = BeautifulSoup(requests.get(\"https://nips.cc/Conferences/2017/Schedule\").content, 'html5lib')"
   ]
  },
  {
   "cell_type": "code",
   "execution_count": 190,
   "metadata": {},
   "outputs": [],
   "source": [
    "poster_tables = soup.find_all('div', {'class':'maincard narrower Poster'})"
   ]
  },
  {
   "cell_type": "code",
   "execution_count": 50,
   "metadata": {},
   "outputs": [],
   "source": [
    "papers = pd.DataFrame(index=range(len(poster_tables)),\n",
    "                      columns=['title', 'authors', 'paper_url', 'code_url', 'poster_url'])"
   ]
  },
  {
   "cell_type": "code",
   "execution_count": 45,
   "metadata": {},
   "outputs": [],
   "source": [
    "def get_url(table_no, title):\n",
    "    table_section = table_index.find('a', {'title':title})\n",
    "    if table_section is not None:\n",
    "        return table_section['href']"
   ]
  },
  {
   "cell_type": "code",
   "execution_count": 51,
   "metadata": {},
   "outputs": [],
   "source": [
    "for p in papers.index:\n",
    "    title = poster_tables[p].find('div',{'class':'maincardBody'}).contents[0]\n",
    "    authors = poster_tables[p].find('div',{'class':'maincardFooter'}).contents[0]\n",
    "    pdf = get_url(poster_tables[p], 'Paper')\n",
    "    repo = get_url(poster_tables[p], 'Code')\n",
    "    poster_pdf = get_url(poster_tables[p], 'Poster')\n",
    "    papers.loc[p] = pd.Series(dict(zip(papers.columns,\n",
    "                                       [title, authors, pdf, repo, poster_pdf])))"
   ]
  },
  {
   "cell_type": "code",
   "execution_count": 63,
   "metadata": {},
   "outputs": [],
   "source": [
    "code_papers = papers[papers['code_url'].notnull()]"
   ]
  },
  {
   "cell_type": "code",
   "execution_count": 67,
   "metadata": {},
   "outputs": [
    {
     "name": "stderr",
     "output_type": "stream",
     "text": [
      "/Users/forde/miniconda3/lib/python3.6/site-packages/ipykernel/__main__.py:1: SettingWithCopyWarning: \n",
      "A value is trying to be set on a copy of a slice from a DataFrame.\n",
      "Try using .loc[row_indexer,col_indexer] = value instead\n",
      "\n",
      "See the caveats in the documentation: http://pandas.pydata.org/pandas-docs/stable/indexing.html#indexing-view-versus-copy\n",
      "  if __name__ == '__main__':\n"
     ]
    }
   ],
   "source": [
    "code_papers['github'] = code_papers['code_url'].str.contains(\"github\")"
   ]
  },
  {
   "cell_type": "code",
   "execution_count": 78,
   "metadata": {},
   "outputs": [],
   "source": [
    "def test_url(page_name):\n",
    "    with suppress(Exception):\n",
    "        return requests.get(page_name).status_code == requests.codes.ok"
   ]
  },
  {
   "cell_type": "code",
   "execution_count": null,
   "metadata": {},
   "outputs": [],
   "source": [
    "code_papers['live'] = [test_url(url) for url in code_papers['code_url']] "
   ]
  },
  {
   "cell_type": "code",
   "execution_count": 106,
   "metadata": {},
   "outputs": [],
   "source": [
    "code_papers[code_papers['live'] != True].to_csv('validate_url.csv')"
   ]
  },
  {
   "cell_type": "code",
   "execution_count": 116,
   "metadata": {},
   "outputs": [],
   "source": [
    "live_gh = code_papers[np.logical_and(code_papers['github'], code_papers['live'] == True)]"
   ]
  },
  {
   "cell_type": "code",
   "execution_count": 254,
   "metadata": {},
   "outputs": [],
   "source": [
    "file_types = ['Dockerfile', 'binder', 'apt.txt', 'environment.yml',\n",
    "              'requirements.txt', 'postBuild', 'setup.py']\n",
    "social_vals = ['languge', 'watchers', 'stargazers', 'forks']"
   ]
  },
  {
   "cell_type": "code",
   "execution_count": 255,
   "metadata": {},
   "outputs": [],
   "source": [
    "def request_inspect_for_r2d(repo_url, file_types=file_types):\n",
    "    repo_name = repo_url[len('https://github.com'):]\n",
    "    repo_soup = BeautifulSoup(requests.get(repo_url).content, \"html5lib\")\n",
    "    result_dict = {}\n",
    "    for t in file_types:\n",
    "        find_in_repo = repo_soup.find(\"a\", {'class':'js-navigation-open', 'title':t})\n",
    "        if find_in_repo is not None:\n",
    "            if t == 'binder':\n",
    "                check_path = '/tree/master/'\n",
    "            else:\n",
    "                check_path = '/blob/master/'\n",
    "            result_dict[t] = find_in_repo['href'] == '{}{}{}'.format(repo_name, check_path, t)\n",
    "        else: \n",
    "            result_dict[t] = False\n",
    "    return result_dict"
   ]
  },
  {
   "cell_type": "code",
   "execution_count": 256,
   "metadata": {},
   "outputs": [],
   "source": [
    "r2d_checks = pd.DataFrame(index=live_gh['code_url'], columns=file_types)"
   ]
  },
  {
   "cell_type": "code",
   "execution_count": 257,
   "metadata": {},
   "outputs": [],
   "source": [
    "for i in r2d_checks.index:\n",
    "    r2d_checks.loc[i] = pd.Series(request_inspect_for_r2d(i))"
   ]
  },
  {
   "cell_type": "code",
   "execution_count": 260,
   "metadata": {},
   "outputs": [
    {
     "data": {
      "text/plain": [
       "Dockerfile           4\n",
       "binder               0\n",
       "apt.txt              0\n",
       "environment.yml      3\n",
       "requirements.txt    14\n",
       "postBuild            0\n",
       "setup.py            20\n",
       "dtype: int64"
      ]
     },
     "execution_count": 260,
     "metadata": {},
     "output_type": "execute_result"
    }
   ],
   "source": [
    "r2d_checks.sum()"
   ]
  },
  {
   "cell_type": "code",
   "execution_count": 261,
   "metadata": {},
   "outputs": [],
   "source": [
    "r2d_checks.to_csv('gh_r2d_data.csv')"
   ]
  },
  {
   "cell_type": "code",
   "execution_count": 212,
   "metadata": {},
   "outputs": [],
   "source": [
    "gh_labeled = pd.read_csv('validate_url_w_labels.csv', index_col=0)"
   ]
  },
  {
   "cell_type": "code",
   "execution_count": 262,
   "metadata": {},
   "outputs": [],
   "source": [
    "r2d_labeled = pd.DataFrame(index=gh_labeled[gh_labeled['labeled_url'].str[:19] == 'https://github.com/']\n",
    "                           ['labeled_url'], columns=file_types)"
   ]
  },
  {
   "cell_type": "code",
   "execution_count": 263,
   "metadata": {},
   "outputs": [],
   "source": [
    "for i in r2d_labeled.index:\n",
    "    r2d_labeled.loc[i] = pd.Series(request_inspect_for_r2d(i))"
   ]
  },
  {
   "cell_type": "code",
   "execution_count": 264,
   "metadata": {},
   "outputs": [
    {
     "data": {
      "text/html": [
       "<div>\n",
       "<style scoped>\n",
       "    .dataframe tbody tr th:only-of-type {\n",
       "        vertical-align: middle;\n",
       "    }\n",
       "\n",
       "    .dataframe tbody tr th {\n",
       "        vertical-align: top;\n",
       "    }\n",
       "\n",
       "    .dataframe thead th {\n",
       "        text-align: right;\n",
       "    }\n",
       "</style>\n",
       "<table border=\"1\" class=\"dataframe\">\n",
       "  <thead>\n",
       "    <tr style=\"text-align: right;\">\n",
       "      <th></th>\n",
       "      <th>Dockerfile</th>\n",
       "      <th>binder</th>\n",
       "      <th>apt.txt</th>\n",
       "      <th>environment.yml</th>\n",
       "      <th>requirements.txt</th>\n",
       "      <th>postBuild</th>\n",
       "      <th>setup.py</th>\n",
       "    </tr>\n",
       "    <tr>\n",
       "      <th>labeled_url</th>\n",
       "      <th></th>\n",
       "      <th></th>\n",
       "      <th></th>\n",
       "      <th></th>\n",
       "      <th></th>\n",
       "      <th></th>\n",
       "      <th></th>\n",
       "    </tr>\n",
       "  </thead>\n",
       "  <tbody>\n",
       "    <tr>\n",
       "      <th>https://github.com/tdhock/mmit-paper</th>\n",
       "      <td>False</td>\n",
       "      <td>False</td>\n",
       "      <td>False</td>\n",
       "      <td>False</td>\n",
       "      <td>False</td>\n",
       "      <td>False</td>\n",
       "      <td>False</td>\n",
       "    </tr>\n",
       "    <tr>\n",
       "      <th>https://github.com/mufarhan/sequence_class_NIPS_2017</th>\n",
       "      <td>False</td>\n",
       "      <td>False</td>\n",
       "      <td>False</td>\n",
       "      <td>False</td>\n",
       "      <td>False</td>\n",
       "      <td>False</td>\n",
       "      <td>False</td>\n",
       "    </tr>\n",
       "    <tr>\n",
       "      <th>https://github.com/sordonia/zforcing</th>\n",
       "      <td>False</td>\n",
       "      <td>False</td>\n",
       "      <td>False</td>\n",
       "      <td>False</td>\n",
       "      <td>False</td>\n",
       "      <td>False</td>\n",
       "      <td>False</td>\n",
       "    </tr>\n",
       "    <tr>\n",
       "      <th>https://github.com/jsuarez5341/Recurrent-Highway-Hypernetworks-NIPS</th>\n",
       "      <td>False</td>\n",
       "      <td>False</td>\n",
       "      <td>False</td>\n",
       "      <td>False</td>\n",
       "      <td>False</td>\n",
       "      <td>False</td>\n",
       "      <td>False</td>\n",
       "    </tr>\n",
       "    <tr>\n",
       "      <th>https://github.com/flatironinstitute/CaImAn</th>\n",
       "      <td>True</td>\n",
       "      <td>False</td>\n",
       "      <td>False</td>\n",
       "      <td>True</td>\n",
       "      <td>False</td>\n",
       "      <td>False</td>\n",
       "      <td>True</td>\n",
       "    </tr>\n",
       "    <tr>\n",
       "      <th>https://github.com/mstaib/stochastic-barycenter-code/</th>\n",
       "      <td>False</td>\n",
       "      <td>False</td>\n",
       "      <td>False</td>\n",
       "      <td>False</td>\n",
       "      <td>False</td>\n",
       "      <td>False</td>\n",
       "      <td>False</td>\n",
       "    </tr>\n",
       "    <tr>\n",
       "      <th>https://github.com/jcoreyes/ex2</th>\n",
       "      <td>False</td>\n",
       "      <td>False</td>\n",
       "      <td>False</td>\n",
       "      <td>False</td>\n",
       "      <td>False</td>\n",
       "      <td>False</td>\n",
       "      <td>False</td>\n",
       "    </tr>\n",
       "    <tr>\n",
       "      <th>https://github.com/eracah/hur-detect</th>\n",
       "      <td>False</td>\n",
       "      <td>False</td>\n",
       "      <td>False</td>\n",
       "      <td>False</td>\n",
       "      <td>False</td>\n",
       "      <td>False</td>\n",
       "      <td>False</td>\n",
       "    </tr>\n",
       "    <tr>\n",
       "      <th>https://github.com/brain-life/encode</th>\n",
       "      <td>False</td>\n",
       "      <td>False</td>\n",
       "      <td>False</td>\n",
       "      <td>False</td>\n",
       "      <td>False</td>\n",
       "      <td>False</td>\n",
       "      <td>False</td>\n",
       "    </tr>\n",
       "    <tr>\n",
       "      <th>https://github.com/openai/multiagent-particle-envs</th>\n",
       "      <td>False</td>\n",
       "      <td>False</td>\n",
       "      <td>False</td>\n",
       "      <td>False</td>\n",
       "      <td>False</td>\n",
       "      <td>False</td>\n",
       "      <td>True</td>\n",
       "    </tr>\n",
       "  </tbody>\n",
       "</table>\n",
       "</div>"
      ],
      "text/plain": [
       "                                                    Dockerfile  binder  \\\n",
       "labeled_url                                                              \n",
       "https://github.com/tdhock/mmit-paper                     False   False   \n",
       "https://github.com/mufarhan/sequence_class_NIPS...       False   False   \n",
       "https://github.com/sordonia/zforcing                     False   False   \n",
       "https://github.com/jsuarez5341/Recurrent-Highwa...       False   False   \n",
       "https://github.com/flatironinstitute/CaImAn               True   False   \n",
       "https://github.com/mstaib/stochastic-barycenter...       False   False   \n",
       "https://github.com/jcoreyes/ex2                          False   False   \n",
       "https://github.com/eracah/hur-detect                     False   False   \n",
       "https://github.com/brain-life/encode                     False   False   \n",
       "https://github.com/openai/multiagent-particle-envs       False   False   \n",
       "\n",
       "                                                    apt.txt  environment.yml  \\\n",
       "labeled_url                                                                    \n",
       "https://github.com/tdhock/mmit-paper                  False            False   \n",
       "https://github.com/mufarhan/sequence_class_NIPS...    False            False   \n",
       "https://github.com/sordonia/zforcing                  False            False   \n",
       "https://github.com/jsuarez5341/Recurrent-Highwa...    False            False   \n",
       "https://github.com/flatironinstitute/CaImAn           False             True   \n",
       "https://github.com/mstaib/stochastic-barycenter...    False            False   \n",
       "https://github.com/jcoreyes/ex2                       False            False   \n",
       "https://github.com/eracah/hur-detect                  False            False   \n",
       "https://github.com/brain-life/encode                  False            False   \n",
       "https://github.com/openai/multiagent-particle-envs    False            False   \n",
       "\n",
       "                                                    requirements.txt  \\\n",
       "labeled_url                                                            \n",
       "https://github.com/tdhock/mmit-paper                           False   \n",
       "https://github.com/mufarhan/sequence_class_NIPS...             False   \n",
       "https://github.com/sordonia/zforcing                           False   \n",
       "https://github.com/jsuarez5341/Recurrent-Highwa...             False   \n",
       "https://github.com/flatironinstitute/CaImAn                    False   \n",
       "https://github.com/mstaib/stochastic-barycenter...             False   \n",
       "https://github.com/jcoreyes/ex2                                False   \n",
       "https://github.com/eracah/hur-detect                           False   \n",
       "https://github.com/brain-life/encode                           False   \n",
       "https://github.com/openai/multiagent-particle-envs             False   \n",
       "\n",
       "                                                    postBuild  setup.py  \n",
       "labeled_url                                                              \n",
       "https://github.com/tdhock/mmit-paper                    False     False  \n",
       "https://github.com/mufarhan/sequence_class_NIPS...      False     False  \n",
       "https://github.com/sordonia/zforcing                    False     False  \n",
       "https://github.com/jsuarez5341/Recurrent-Highwa...      False     False  \n",
       "https://github.com/flatironinstitute/CaImAn             False      True  \n",
       "https://github.com/mstaib/stochastic-barycenter...      False     False  \n",
       "https://github.com/jcoreyes/ex2                         False     False  \n",
       "https://github.com/eracah/hur-detect                    False     False  \n",
       "https://github.com/brain-life/encode                    False     False  \n",
       "https://github.com/openai/multiagent-particle-envs      False      True  "
      ]
     },
     "execution_count": 264,
     "metadata": {},
     "output_type": "execute_result"
    }
   ],
   "source": [
    "r2d_labeled"
   ]
  },
  {
   "cell_type": "code",
   "execution_count": 265,
   "metadata": {},
   "outputs": [],
   "source": [
    "r2d_labeled.to_csv('labeled_r2d_data.csv')"
   ]
  },
  {
   "cell_type": "code",
   "execution_count": 266,
   "metadata": {},
   "outputs": [],
   "source": [
    "full_r2d = r2d_checks.append(r2d_labeled)"
   ]
  },
  {
   "cell_type": "code",
   "execution_count": 271,
   "metadata": {},
   "outputs": [
    {
     "data": {
      "text/plain": [
       "0    178\n",
       "1     25\n",
       "2      7\n",
       "3      2\n",
       "dtype: int64"
      ]
     },
     "execution_count": 271,
     "metadata": {},
     "output_type": "execute_result"
    }
   ],
   "source": [
    "full_r2d.sum(axis=1).value_counts()"
   ]
  }
 ],
 "metadata": {
  "kernelspec": {
   "display_name": "Python [default]",
   "language": "python",
   "name": "python3"
  },
  "language_info": {
   "codemirror_mode": {
    "name": "ipython",
    "version": 3
   },
   "file_extension": ".py",
   "mimetype": "text/x-python",
   "name": "python",
   "nbconvert_exporter": "python",
   "pygments_lexer": "ipython3",
   "version": "3.6.5"
  }
 },
 "nbformat": 4,
 "nbformat_minor": 2
}
