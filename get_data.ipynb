{
 "cells": [
  {
   "cell_type": "code",
   "execution_count": 1,
   "metadata": {},
   "outputs": [],
   "source": [
    "import  pandas as pd\n",
    "import  yaml\n",
    "import  numpy  as np\n",
    "import  json\n",
    "import  requests\n",
    "import  pdb\n",
    "import  collect_data\n",
    "import re\n",
    "from importlib import reload\n",
    "from bs4 import BeautifulSoup\n",
    "from contextlib import suppress\n",
    "from scipy.stats import ttest_ind\n",
    "import seaborn as sns\n",
    "import matplotlib.pyplot as plt\n",
    "sns.set_style('darkgrid')\n",
    "sns.set_palette('colorblind')\n",
    "sns.set_color_codes()\n",
    "sns.set_context('talk')"
   ]
  },
  {
   "cell_type": "markdown",
   "metadata": {},
   "source": [
    "# Collecting Data From the NIPS 2017 Schedule\n",
    "\n",
    "NIPS 2017 includes canonical links the authors' repository for a given paper.  We use BeautiulSoup to scrape the website's schedule metadata for paper information and the link to the repository."
   ]
  },
  {
   "cell_type": "code",
   "execution_count": 2,
   "metadata": {},
   "outputs": [],
   "source": [
    "soup = BeautifulSoup(requests.get(\"https://nips.cc/Conferences/2017/Schedule\").content, 'html5lib')"
   ]
  },
  {
   "cell_type": "code",
   "execution_count": 3,
   "metadata": {},
   "outputs": [],
   "source": [
    "poster_tables = soup.find_all('div', {'class':'maincard narrower Poster'})"
   ]
  },
  {
   "cell_type": "code",
   "execution_count": 4,
   "metadata": {},
   "outputs": [],
   "source": [
    "papers = pd.DataFrame(index=range(len(poster_tables)),\n",
    "                      columns=['title', 'authors', 'paper_url', 'code_url', 'poster_url'])"
   ]
  },
  {
   "cell_type": "code",
   "execution_count": 5,
   "metadata": {},
   "outputs": [],
   "source": [
    "for p in papers.index:\n",
    "    title = poster_tables[p].find('div',{'class':'maincardBody'}).contents[0]\n",
    "    authors = poster_tables[p].find('div',{'class':'maincardFooter'}).contents[0]\n",
    "    pdf = collect_data.get_url(poster_tables[p], 'Paper')\n",
    "    repo = collect_data.get_url(poster_tables[p], 'Code')\n",
    "    poster_pdf = collect_data.get_url(poster_tables[p], 'Poster')\n",
    "    papers.loc[p] = pd.Series(dict(zip(papers.columns,\n",
    "                                       [title, authors, pdf, repo, poster_pdf])))"
   ]
  },
  {
   "cell_type": "code",
   "execution_count": 6,
   "metadata": {},
   "outputs": [],
   "source": [
    "code_papers = papers[papers['code_url'].notnull()]"
   ]
  },
  {
   "cell_type": "markdown",
   "metadata": {},
   "source": [
    "We also test the urls for GitHub repos by making a request to the listed webpage"
   ]
  },
  {
   "cell_type": "code",
   "execution_count": 7,
   "metadata": {},
   "outputs": [
    {
     "name": "stderr",
     "output_type": "stream",
     "text": [
      "/Users/forde/miniconda3/lib/python3.6/site-packages/ipykernel/__main__.py:1: SettingWithCopyWarning: \n",
      "A value is trying to be set on a copy of a slice from a DataFrame.\n",
      "Try using .loc[row_indexer,col_indexer] = value instead\n",
      "\n",
      "See the caveats in the documentation: http://pandas.pydata.org/pandas-docs/stable/indexing.html#indexing-view-versus-copy\n",
      "  if __name__ == '__main__':\n"
     ]
    }
   ],
   "source": [
    "code_papers['github'] = code_papers['code_url'].str.contains(\"github.com\")"
   ]
  },
  {
   "cell_type": "code",
   "execution_count": 8,
   "metadata": {},
   "outputs": [
    {
     "name": "stderr",
     "output_type": "stream",
     "text": [
      "/Users/forde/miniconda3/lib/python3.6/site-packages/ipykernel/__main__.py:1: SettingWithCopyWarning: \n",
      "A value is trying to be set on a copy of a slice from a DataFrame.\n",
      "Try using .loc[row_indexer,col_indexer] = value instead\n",
      "\n",
      "See the caveats in the documentation: http://pandas.pydata.org/pandas-docs/stable/indexing.html#indexing-view-versus-copy\n",
      "  if __name__ == '__main__':\n",
      "/Users/forde/miniconda3/lib/python3.6/site-packages/ipykernel/__main__.py:4: SettingWithCopyWarning: \n",
      "A value is trying to be set on a copy of a slice from a DataFrame.\n",
      "Try using .loc[row_indexer,col_indexer] = value instead\n",
      "\n",
      "See the caveats in the documentation: http://pandas.pydata.org/pandas-docs/stable/indexing.html#indexing-view-versus-copy\n"
     ]
    }
   ],
   "source": [
    "code_papers['live'] = [collect_data.test_url(url) for url in code_papers['code_url']]\n",
    "code_papers['gh_full_path'] = np.logical_and(code_papers['github'], \n",
    "                                             code_papers['code_url'].str.rstrip('/')\\\n",
    "                                             .str.split('/').str.len() > 4)"
   ]
  },
  {
   "cell_type": "markdown",
   "metadata": {},
   "source": [
    "Some papers are not live at the time of testing, so we extract these and manually review to find the webpage"
   ]
  },
  {
   "cell_type": "code",
   "execution_count": 9,
   "metadata": {},
   "outputs": [],
   "source": [
    "code_papers[np.logical_or(code_papers['live'] != True, ~code_papers['gh_full_path'])].to_csv('validate_url.csv')"
   ]
  },
  {
   "cell_type": "code",
   "execution_count": 10,
   "metadata": {},
   "outputs": [],
   "source": [
    "live_gh = code_papers[np.logical_and(code_papers['gh_full_path'], code_papers['live'] == True)]"
   ]
  },
  {
   "cell_type": "markdown",
   "metadata": {},
   "source": [
    "We collect scraped data on the existence of files in each repo that can be used by repo2docker by inspecting the GitHub page of each repo for the file.  The file types are listed in `file_types`.\n",
    "\n",
    "GitHub metadata is collected using the GitHub graphql api.  To run this query, one will need to create a [personal access token with GitHub](https://help.github.com/articles/creating-a-personal-access-token-for-the-command-line/)."
   ]
  },
  {
   "cell_type": "code",
   "execution_count": 11,
   "metadata": {},
   "outputs": [],
   "source": [
    "file_types = ['Dockerfile', 'binder', 'apt.txt', 'environment.yml',\n",
    "              'requirements.txt', 'postBuild', 'setup.py', 'REQUIRE', 'runtime.txt',\n",
    "              'install.R']\n",
    "\n",
    "social_vals = ['description', 'stargazers', 'watchers',\n",
    "               'forks', 'languages', 'repositoryTopics']\n",
    "\n",
    "r2d_checks = pd.DataFrame(index=live_gh['code_url'], columns=file_types)\n",
    "gh_metadata = pd.DataFrame(index=live_gh['code_url'], columns=social_vals)"
   ]
  },
  {
   "cell_type": "markdown",
   "metadata": {},
   "source": [
    "To recollect data, you will need to replace the line below with your GitHub personal access token"
   ]
  },
  {
   "cell_type": "code",
   "execution_count": 12,
   "metadata": {},
   "outputs": [],
   "source": [
    "with suppress(Exception):\n",
    "    credentials = yaml.load(open('../binder_study/secrets.yml'))"
   ]
  },
  {
   "cell_type": "markdown",
   "metadata": {},
   "source": [
    "For ease of processing, we note URL's that explicitly use the `.git` extension to standardize our data collection."
   ]
  },
  {
   "cell_type": "markdown",
   "metadata": {},
   "source": [
    "The block of code below collects all the data from GitHub. Again, this does not run except with a personal access token. Repo2docker file information from this block is saved as `gh_r2d_data.csv`, and GitHub metadata is saved as `gh_metadata.csv`.  Note also we exclude repositories that have changed their URL and include in later analysis.\n",
    "\n",
    "We have supressed these exceptions to get the notebook to run the whole way through"
   ]
  },
  {
   "cell_type": "code",
   "execution_count": 13,
   "metadata": {},
   "outputs": [
    {
     "name": "stderr",
     "output_type": "stream",
     "text": [
      "/Users/forde/miniconda3/lib/python3.6/site-packages/pandas/core/generic.py:5430: SettingWithCopyWarning: \n",
      "A value is trying to be set on a copy of a slice from a DataFrame\n",
      "\n",
      "See the caveats in the documentation: http://pandas.pydata.org/pandas-docs/stable/indexing.html#indexing-view-versus-copy\n",
      "  self._update_inplace(new_data)\n",
      "/Users/forde/miniconda3/lib/python3.6/site-packages/pandas/core/indexing.py:362: SettingWithCopyWarning: \n",
      "A value is trying to be set on a copy of a slice from a DataFrame.\n",
      "Try using .loc[row_indexer,col_indexer] = value instead\n",
      "\n",
      "See the caveats in the documentation: http://pandas.pydata.org/pandas-docs/stable/indexing.html#indexing-view-versus-copy\n",
      "  self.obj[key] = _infer_fill_value(value)\n",
      "/Users/forde/miniconda3/lib/python3.6/site-packages/pandas/core/indexing.py:543: SettingWithCopyWarning: \n",
      "A value is trying to be set on a copy of a slice from a DataFrame.\n",
      "Try using .loc[row_indexer,col_indexer] = value instead\n",
      "\n",
      "See the caveats in the documentation: http://pandas.pydata.org/pandas-docs/stable/indexing.html#indexing-view-versus-copy\n",
      "  self.obj[item] = s\n",
      "/Users/forde/Documents/jupyter_docs/r2d_nips/collect_data.py:80: SettingWithCopyWarning: \n",
      "A value is trying to be set on a copy of a slice from a DataFrame.\n",
      "Try using .loc[row_indexer,col_indexer] = value instead\n",
      "\n",
      "See the caveats in the documentation: http://pandas.pydata.org/pandas-docs/stable/indexing.html#indexing-view-versus-copy\n",
      "  df['no_code'] = df['n_languages'] == 0\n",
      "/Users/forde/Documents/jupyter_docs/r2d_nips/collect_data.py:85: SettingWithCopyWarning: \n",
      "A value is trying to be set on a copy of a slice from a DataFrame.\n",
      "Try using .loc[row_indexer,col_indexer] = value instead\n",
      "\n",
      "See the caveats in the documentation: http://pandas.pydata.org/pandas-docs/stable/indexing.html#indexing-view-versus-copy\n",
      "  df['languages'] = [[x['name'] for x in c['nodes']] if len(c['nodes']) > 0 else [] for c in df['languages']]\n",
      "/Users/forde/Documents/jupyter_docs/r2d_nips/collect_data.py:88: SettingWithCopyWarning: \n",
      "A value is trying to be set on a copy of a slice from a DataFrame.\n",
      "Try using .loc[row_indexer,col_indexer] = value instead\n",
      "\n",
      "See the caveats in the documentation: http://pandas.pydata.org/pandas-docs/stable/indexing.html#indexing-view-versus-copy\n",
      "  df['primary_language'] = [x[0] if len(x) > 0 else '' for x in df['languages']]\n",
      "/Users/forde/Documents/jupyter_docs/r2d_nips/collect_data.py:89: SettingWithCopyWarning: \n",
      "A value is trying to be set on a copy of a slice from a DataFrame.\n",
      "Try using .loc[row_indexer,col_indexer] = value instead\n",
      "\n",
      "See the caveats in the documentation: http://pandas.pydata.org/pandas-docs/stable/indexing.html#indexing-view-versus-copy\n",
      "  df['Python'] = ['Python' in x for x in df['languages']]\n",
      "/Users/forde/Documents/jupyter_docs/r2d_nips/collect_data.py:90: SettingWithCopyWarning: \n",
      "A value is trying to be set on a copy of a slice from a DataFrame.\n",
      "Try using .loc[row_indexer,col_indexer] = value instead\n",
      "\n",
      "See the caveats in the documentation: http://pandas.pydata.org/pandas-docs/stable/indexing.html#indexing-view-versus-copy\n",
      "  df['Julia'] = ['Julia' in x for x in df['languages']]\n",
      "/Users/forde/Documents/jupyter_docs/r2d_nips/collect_data.py:91: SettingWithCopyWarning: \n",
      "A value is trying to be set on a copy of a slice from a DataFrame.\n",
      "Try using .loc[row_indexer,col_indexer] = value instead\n",
      "\n",
      "See the caveats in the documentation: http://pandas.pydata.org/pandas-docs/stable/indexing.html#indexing-view-versus-copy\n",
      "  df['R'] = ['R' in x for x in df['languages']]\n"
     ]
    }
   ],
   "source": [
    "with suppress(Exception):\n",
    "    for i in r2d_checks.index:\n",
    "        gh_url = re.sub(r\"\\.git$\", \"\", i)\n",
    "        split_url = gh_url.split('/')\n",
    "        soup_i = BeautifulSoup(requests.get(gh_url).content, \"html5lib\")\n",
    "        gh_metadata.loc[i] = pd.Series(collect_data.graphql_social_data(split_url[3], split_url[4], credentials['binder']['key']))\n",
    "        r2d_checks.loc[i] = pd.Series(collect_data.request_inspect_for_r2d(i, soup_i, file_types))\n",
    "    live_gh[live_gh['code_url'].isin(gh_metadata[gh_metadata.isna().all(axis=1)].index.values)]\\\n",
    "    .to_csv('change_reponame.csv')\n",
    "    gh_metadata = collect_data.process_gh_api_df(gh_metadata.dropna(how='all'))"
   ]
  },
  {
   "cell_type": "markdown",
   "metadata": {},
   "source": [
    "We drop data that does not have any programming languages associated with the repo."
   ]
  },
  {
   "cell_type": "code",
   "execution_count": 14,
   "metadata": {},
   "outputs": [],
   "source": [
    "with suppress(Exception):\n",
    "    gh_metadata[gh_metadata['no_code']].to_csv('no_code.csv')"
   ]
  },
  {
   "cell_type": "code",
   "execution_count": 15,
   "metadata": {},
   "outputs": [],
   "source": [
    "with suppress(Exception):\n",
    "    gh_metadata = gh_metadata[~gh_metadata['no_code']]"
   ]
  },
  {
   "cell_type": "markdown",
   "metadata": {},
   "source": [
    "The csv's below are the results of the original data pull should you want to load the data from here."
   ]
  },
  {
   "cell_type": "code",
   "execution_count": 16,
   "metadata": {},
   "outputs": [],
   "source": [
    "try:\n",
    "    r2d_checks.to_csv('gh_r2d_data.csv')\n",
    "except:\n",
    "    r2d_checks = pd.read_csv('gh_r2d_data.csv')"
   ]
  },
  {
   "cell_type": "code",
   "execution_count": 17,
   "metadata": {},
   "outputs": [],
   "source": [
    "try:\n",
    "    gh_metadata.to_csv('gh_metadata.csv')\n",
    "except:\n",
    "    gh_metadata = gh_metadata.to_csv('gh_metadata.csv')"
   ]
  },
  {
   "cell_type": "markdown",
   "metadata": {},
   "source": [
    "## Analyzing Manually Annotated Data\n",
    "\n",
    "For repositories that do not have automatically accessible repositories available, we manually annotate to find the author's URL. Files with these lables are loaded below."
   ]
  },
  {
   "cell_type": "code",
   "execution_count": 18,
   "metadata": {},
   "outputs": [],
   "source": [
    "gh_labeled = pd.read_csv('validate_url_w_labels.csv', index_col=0)"
   ]
  },
  {
   "cell_type": "code",
   "execution_count": 19,
   "metadata": {},
   "outputs": [],
   "source": [
    "changed_url_labeled = pd.read_csv('change_reponame_labeled.csv', index_col=0)"
   ]
  },
  {
   "cell_type": "code",
   "execution_count": 20,
   "metadata": {},
   "outputs": [],
   "source": [
    "r2d_labeled = pd.DataFrame(index=gh_labeled[gh_labeled['labeled_url'].str[:19] == 'https://github.com/']\n",
    "                           ['labeled_url'].append(changed_url_labeled['labeled_url']), columns=file_types)"
   ]
  },
  {
   "cell_type": "code",
   "execution_count": 21,
   "metadata": {},
   "outputs": [],
   "source": [
    "gh_metadata_labeled = pd.DataFrame(index=r2d_labeled.index, columns=social_vals)"
   ]
  },
  {
   "cell_type": "markdown",
   "metadata": {},
   "source": [
    "We now collect data for these labeled URLs using the same methodology to find configuration files and GitHub metadata."
   ]
  },
  {
   "cell_type": "code",
   "execution_count": 22,
   "metadata": {},
   "outputs": [],
   "source": [
    "with suppress(Exception):\n",
    "    for i in r2d_labeled.index:\n",
    "        split_url = i.split('/')\n",
    "        soup_i = BeautifulSoup(requests.get(i).content, \"html5lib\")\n",
    "        r2d_labeled.loc[i] = pd.Series(collect_data.request_inspect_for_r2d(i, soup_i, file_types))\n",
    "        gh_metadata_labeled.loc[i] = pd.Series(collect_data.graphql_social_data(split_url[3], split_url[4], credentials['binder']['key']))\n",
    "    gh_metadata_labeled = collect_data.process_gh_api_df(gh_metadata_labeled)"
   ]
  },
  {
   "cell_type": "markdown",
   "metadata": {},
   "source": [
    "Labeled and unlabeled datasets are combined below."
   ]
  },
  {
   "cell_type": "code",
   "execution_count": 23,
   "metadata": {},
   "outputs": [],
   "source": [
    "with suppress(Exception):\n",
    "    total_gh_metadata = pd.concat([gh_metadata, gh_metadata_labeled])"
   ]
  },
  {
   "cell_type": "code",
   "execution_count": 24,
   "metadata": {},
   "outputs": [],
   "source": [
    "with suppress(Exception):\n",
    "    total_r2d = pd.concat([r2d_checks, r2d_labeled])"
   ]
  },
  {
   "cell_type": "code",
   "execution_count": 25,
   "metadata": {},
   "outputs": [],
   "source": [
    "try:\n",
    "    total_gh_metadata.to_csv('gh_metadata_w_labeled.csv')\n",
    "    total_r2d.to_csv('r2d_w_labeled.csv')\n",
    "except:\n",
    "    total_gh_metadata = pd.read_csv('gh_metadata_w_labeled.csv')\n",
    "    total_r2d = pd.read_csv('r2d_w_labeled.csv')"
   ]
  },
  {
   "cell_type": "markdown",
   "metadata": {},
   "source": [
    "# Conference Wide Metrics\n",
    "\n",
    "We calculate the percent of papers that have included any code url, a paper url, and a url to a live GitHub page."
   ]
  },
  {
   "cell_type": "code",
   "execution_count": 26,
   "metadata": {},
   "outputs": [
    {
     "data": {
      "image/png": "[encoded data removed]",
      "text/plain": [
       "<Figure size 432x288 with 1 Axes>"
      ]
     },
     "metadata": {},
     "output_type": "display_data"
    }
   ],
   "source": [
    "paper_metrics = (len(papers) - papers.isnull().sum()).loc[['code_url','poster_url']]\\\n",
    ".append(live_gh[['gh_full_path']].sum())\n",
    "paper_metrics.index = ['Shared Code', 'Shared Poster', 'Live GitHub Link']\n",
    "(100.*paper_metrics/len(papers)).plot(kind='bar', cmap='coolwarm')\n",
    "plt.ylabel('')\n",
    "plt.xlabel('')\n",
    "plt.title('Percent of NIPS Papers by Repo Metric')\n",
    "plt.yticks(np.arange(0,55,5))\n",
    "plt.xticks(rotation=0)\n",
    "plt.tight_layout()\n",
    "plt.savefig('paper_metrics.png')"
   ]
  },
  {
   "cell_type": "markdown",
   "metadata": {},
   "source": [
    "Below are the raw counts:"
   ]
  },
  {
   "cell_type": "code",
   "execution_count": 27,
   "metadata": {},
   "outputs": [
    {
     "data": {
      "text/plain": [
       "Shared Code         248\n",
       "Shared Poster       146\n",
       "Live GitHub Link    189\n",
       "dtype: int64"
      ]
     },
     "execution_count": 27,
     "metadata": {},
     "output_type": "execute_result"
    }
   ],
   "source": [
    "paper_metrics"
   ]
  },
  {
   "cell_type": "markdown",
   "metadata": {},
   "source": [
    "Below are the percentages in the above plot."
   ]
  },
  {
   "cell_type": "code",
   "execution_count": 28,
   "metadata": {},
   "outputs": [
    {
     "data": {
      "text/plain": [
       "Shared Code         36.524300\n",
       "Shared Poster       21.502209\n",
       "Live GitHub Link    27.835052\n",
       "dtype: float64"
      ]
     },
     "execution_count": 28,
     "metadata": {},
     "output_type": "execute_result"
    }
   ],
   "source": [
    "(100.*paper_metrics/len(papers))"
   ]
  },
  {
   "cell_type": "markdown",
   "metadata": {},
   "source": [
    "Programmng"
   ]
  },
  {
   "cell_type": "code",
   "execution_count": 29,
   "metadata": {},
   "outputs": [
    {
     "data": {
      "image/png": "[encoded data removed]",
      "text/plain": [
       "<Figure size 432x288 with 1 Axes>"
      ]
     },
     "metadata": {},
     "output_type": "display_data"
    }
   ],
   "source": [
    "(100*total_gh_metadata[['Python', 'Julia', 'R']].sum()/len(total_gh_metadata)).plot(kind='bar', cmap='coolwarm')\n",
    "plt.title('Percent of GitHub Repositories by Language')\n",
    "plt.xticks(rotation=0)\n",
    "plt.tight_layout()\n",
    "plt.savefig('pct_languages.png')"
   ]
  },
  {
   "cell_type": "markdown",
   "metadata": {},
   "source": [
    "We plot the primary languages of the repositories. By far, the most popular language is Python."
   ]
  },
  {
   "cell_type": "code",
   "execution_count": 30,
   "metadata": {},
   "outputs": [
    {
     "data": {
      "image/png": "[encoded data removed]",
      "text/plain": [
       "<Figure size 432x288 with 1 Axes>"
      ]
     },
     "metadata": {},
     "output_type": "display_data"
    }
   ],
   "source": [
    "primary_languages= total_gh_metadata['primary_language'].value_counts()\n",
    "primary_languages.rename(index={'Jupyter Notebook': 'Jupyter'}, inplace=True)\n",
    "primary_languages.plot(kind='bar', cmap='coolwarm')\n",
    "plt.title('Repository Primary Language')\n",
    "plt.ylabel('Number of Repositories')\n",
    "plt.xticks(rotation=45, horizontalalignment='right')\n",
    "plt.tight_layout()\n",
    "plt.savefig('primary_language.png')"
   ]
  },
  {
   "cell_type": "markdown",
   "metadata": {},
   "source": [
    "For reference, we also include information on papers that were manually labeled.  A minority of them required manual review."
   ]
  },
  {
   "cell_type": "code",
   "execution_count": 31,
   "metadata": {},
   "outputs": [],
   "source": [
    "labeled_url_stats = gh_labeled['labeled_url'].notnull().value_counts()\n",
    "labeled_url_stats.index = ['found url', 'url still missing']\n",
    "labeled_url_stats.loc['missing_https'] = gh_labeled['missing_https'].sum()\n",
    "labeled_url_stats.loc['changed_url'] = len(changed_url_labeled)\n",
    "labeled_url_stats.index = ['found url', 'url still missing', 'missing https', 'changed url']"
   ]
  },
  {
   "cell_type": "code",
   "execution_count": 32,
   "metadata": {},
   "outputs": [
    {
     "data": {
      "image/png": "[encoded data removed]",
      "text/plain": [
       "<Figure size 432x288 with 1 Axes>"
      ]
     },
     "metadata": {},
     "output_type": "display_data"
    }
   ],
   "source": [
    "labeled_url_stats.plot(kind='bar',  cmap='coolwarm')\n",
    "plt.ylabel('')\n",
    "plt.xlabel('')\n",
    "plt.yticks(np.arange(0, 20, step=2))\n",
    "plt.title('NIPS Papers by Needing Manual Review')\n",
    "plt.xticks(rotation=0)\n",
    "plt.tight_layout()\n",
    "plt.savefig('manual_review_metrics.png')"
   ]
  },
  {
   "cell_type": "code",
   "execution_count": 33,
   "metadata": {},
   "outputs": [
    {
     "data": {
      "text/plain": [
       "679"
      ]
     },
     "execution_count": 33,
     "metadata": {},
     "output_type": "execute_result"
    }
   ],
   "source": [
    "len(papers)"
   ]
  },
  {
   "cell_type": "code",
   "execution_count": 34,
   "metadata": {},
   "outputs": [
    {
     "data": {
      "text/plain": [
       "Shared Code         248\n",
       "Shared Poster       146\n",
       "Live GitHub Link    189\n",
       "dtype: int64"
      ]
     },
     "execution_count": 34,
     "metadata": {},
     "output_type": "execute_result"
    }
   ],
   "source": [
    "paper_metrics"
   ]
  },
  {
   "cell_type": "code",
   "execution_count": 35,
   "metadata": {},
   "outputs": [
    {
     "data": {
      "text/plain": [
       "Shared Code         36.524300\n",
       "Shared Poster       21.502209\n",
       "Live GitHub Link    27.835052\n",
       "dtype: float64"
      ]
     },
     "execution_count": 35,
     "metadata": {},
     "output_type": "execute_result"
    }
   ],
   "source": [
    "(100.*paper_metrics/len(papers))"
   ]
  },
  {
   "cell_type": "markdown",
   "metadata": {},
   "source": [
    "# Reproducing Reults Figures\n",
    "\n",
    "For reference there are 197 papers in our analysis"
   ]
  },
  {
   "cell_type": "code",
   "execution_count": 36,
   "metadata": {},
   "outputs": [
    {
     "data": {
      "text/plain": [
       "197"
      ]
     },
     "execution_count": 36,
     "metadata": {},
     "output_type": "execute_result"
    }
   ],
   "source": [
    "len(total_gh_metadata)"
   ]
  },
  {
   "cell_type": "markdown",
   "metadata": {},
   "source": [
    "We first plot the number of repositories by each type of configuration file"
   ]
  },
  {
   "cell_type": "code",
   "execution_count": 37,
   "metadata": {},
   "outputs": [
    {
     "data": {
      "image/png": "[encoded data removed]",
      "text/plain": [
       "<Figure size 432x288 with 1 Axes>"
      ]
     },
     "metadata": {},
     "output_type": "display_data"
    }
   ],
   "source": [
    "total_r2d.sum().sort_values(ascending=False).plot(kind='bar', colormap='coolwarm')\n",
    "plt.title('GitHub Repositories by Type of Config File')\n",
    "plt.ylabel('')\n",
    "plt.xticks(rotation=45, horizontalalignment='right')\n",
    "plt.tight_layout()\n",
    "plt.savefig('repos_by_r2d_file.png')"
   ]
  },
  {
   "cell_type": "markdown",
   "metadata": {},
   "source": [
    "Below are the raw values:"
   ]
  },
  {
   "cell_type": "code",
   "execution_count": 38,
   "metadata": {},
   "outputs": [
    {
     "data": {
      "text/plain": [
       "setup.py            23\n",
       "requirements.txt    16\n",
       "Dockerfile           5\n",
       "environment.yml      4\n",
       "install.R            0\n",
       "runtime.txt          0\n",
       "REQUIRE              0\n",
       "postBuild            0\n",
       "apt.txt              0\n",
       "binder               0\n",
       "dtype: int64"
      ]
     },
     "execution_count": 38,
     "metadata": {},
     "output_type": "execute_result"
    }
   ],
   "source": [
    "total_r2d.sum().sort_values(ascending=False)"
   ]
  },
  {
   "cell_type": "markdown",
   "metadata": {},
   "source": [
    "Below are the number of repositories that have 0, 1, 2, or 3 configuration files:"
   ]
  },
  {
   "cell_type": "code",
   "execution_count": 39,
   "metadata": {},
   "outputs": [
    {
     "data": {
      "image/png": "[encoded data removed]",
      "text/plain": [
       "<Figure size 432x288 with 1 Axes>"
      ]
     },
     "metadata": {},
     "output_type": "display_data"
    }
   ],
   "source": [
    "total_r2d.sum(axis=1).value_counts().plot(kind='bar', colormap='coolwarm', rot=0)\n",
    "plt.xlabel('Number of Config Files')\n",
    "plt.ylabel('Number of Repositories')\n",
    "plt.title('Repo2Docker Config File Count')\n",
    "plt.tight_layout()\n",
    "plt.savefig('total_r2d_files_plot.png')"
   ]
  },
  {
   "cell_type": "markdown",
   "metadata": {},
   "source": [
    "The raw values of the plot above are below"
   ]
  },
  {
   "cell_type": "code",
   "execution_count": 40,
   "metadata": {},
   "outputs": [
    {
     "data": {
      "text/plain": [
       "0    165\n",
       "1     26\n",
       "2      8\n",
       "3      2\n",
       "dtype: int64"
      ]
     },
     "execution_count": 40,
     "metadata": {},
     "output_type": "execute_result"
    }
   ],
   "source": [
    "total_r2d.sum(axis=1).value_counts()"
   ]
  },
  {
   "cell_type": "markdown",
   "metadata": {},
   "source": [
    "We now label repositories that are repo2docker compatible as repositories that have at least 1 type of configuration file that repo2docker uses."
   ]
  },
  {
   "cell_type": "code",
   "execution_count": 41,
   "metadata": {},
   "outputs": [],
   "source": [
    "total_gh_metadata['r2d_capable'] = total_r2d.sum(axis=1) > 0"
   ]
  },
  {
   "cell_type": "markdown",
   "metadata": {},
   "source": [
    "The average number of users that have forked, starred, or watched is significantly higher when we exclude repositories that are part of larger libraries.  We label larger libraries as libraries that point to a specific folder in the repo as the code, rather than the main repository URL.  These libraries are part of larger deep learning repos."
   ]
  },
  {
   "cell_type": "code",
   "execution_count": 42,
   "metadata": {},
   "outputs": [],
   "source": [
    "total_gh_metadata['larger_library'] = total_gh_metadata.index.str.rstrip('/').str.split('/').str.len() > 5\n",
    "main_repo = total_gh_metadata[~total_gh_metadata['larger_library']]\n",
    "wo_larger_test = ttest_ind(main_repo[main_repo['r2d_capable']][['forks', 'stargazers', 'watchers']],\n",
    "          main_repo[~main_repo['r2d_capable']][['forks', 'stargazers', 'watchers']])"
   ]
  },
  {
   "cell_type": "code",
   "execution_count": 43,
   "metadata": {},
   "outputs": [
    {
     "data": {
      "text/plain": [
       "Ttest_indResult(statistic=array([2.08651187, 2.42183915, 2.60226024]), pvalue=array([0.03825309, 0.01637165, 0.00998362]))"
      ]
     },
     "execution_count": 43,
     "metadata": {},
     "output_type": "execute_result"
    }
   ],
   "source": [
    "wo_larger_test"
   ]
  },
  {
   "cell_type": "markdown",
   "metadata": {},
   "source": [
    "The means of these two groups are listed below:"
   ]
  },
  {
   "cell_type": "code",
   "execution_count": 44,
   "metadata": {},
   "outputs": [],
   "source": [
    "gh_means = main_repo.groupby('r2d_capable')[['forks', 'stargazers', 'watchers']].mean()"
   ]
  },
  {
   "cell_type": "code",
   "execution_count": 45,
   "metadata": {},
   "outputs": [
    {
     "data": {
      "text/html": [
       "<div>\n",
       "<style scoped>\n",
       "    .dataframe tbody tr th:only-of-type {\n",
       "        vertical-align: middle;\n",
       "    }\n",
       "\n",
       "    .dataframe tbody tr th {\n",
       "        vertical-align: top;\n",
       "    }\n",
       "\n",
       "    .dataframe thead th {\n",
       "        text-align: right;\n",
       "    }\n",
       "</style>\n",
       "<table border=\"1\" class=\"dataframe\">\n",
       "  <thead>\n",
       "    <tr style=\"text-align: right;\">\n",
       "      <th></th>\n",
       "      <th>forks</th>\n",
       "      <th>stargazers</th>\n",
       "      <th>watchers</th>\n",
       "    </tr>\n",
       "    <tr>\n",
       "      <th>r2d_capable</th>\n",
       "      <th></th>\n",
       "      <th></th>\n",
       "      <th></th>\n",
       "    </tr>\n",
       "  </thead>\n",
       "  <tbody>\n",
       "    <tr>\n",
       "      <th>False</th>\n",
       "      <td>26.012658</td>\n",
       "      <td>102.905063</td>\n",
       "      <td>8.949367</td>\n",
       "    </tr>\n",
       "    <tr>\n",
       "      <th>True</th>\n",
       "      <td>86.916667</td>\n",
       "      <td>381.583333</td>\n",
       "      <td>29.916667</td>\n",
       "    </tr>\n",
       "  </tbody>\n",
       "</table>\n",
       "</div>"
      ],
      "text/plain": [
       "                 forks  stargazers   watchers\n",
       "r2d_capable                                  \n",
       "False        26.012658  102.905063   8.949367\n",
       "True         86.916667  381.583333  29.916667"
      ]
     },
     "execution_count": 45,
     "metadata": {},
     "output_type": "execute_result"
    }
   ],
   "source": [
    "gh_means"
   ]
  },
  {
   "cell_type": "markdown",
   "metadata": {},
   "source": [
    "Also, the percent difference between repos with and without these configuration files"
   ]
  },
  {
   "cell_type": "code",
   "execution_count": 46,
   "metadata": {},
   "outputs": [
    {
     "data": {
      "text/plain": [
       "forks         2.341322\n",
       "stargazers    2.708110\n",
       "watchers      2.342881\n",
       "dtype: float64"
      ]
     },
     "execution_count": 46,
     "metadata": {},
     "output_type": "execute_result"
    }
   ],
   "source": [
    "(gh_means.loc[True] - gh_means.loc[False])/gh_means.loc[False]"
   ]
  },
  {
   "cell_type": "markdown",
   "metadata": {},
   "source": [
    "We also plot the means with errorbars when excluding larger libraries"
   ]
  },
  {
   "cell_type": "code",
   "execution_count": 47,
   "metadata": {},
   "outputs": [
    {
     "data": {
      "image/png": "[encoded data removed]",
      "text/plain": [
       "<Figure size 432x288 with 1 Axes>"
      ]
     },
     "metadata": {},
     "output_type": "display_data"
    }
   ],
   "source": [
    "total_gh_metadata[~total_gh_metadata['larger_library']].groupby(['r2d_capable'])[['stargazers', 'watchers',  'forks']].mean()\\\n",
    ".T.plot(kind='bar', yerr=.975*total_gh_metadata[~total_gh_metadata['larger_library']]\\\n",
    "        .groupby(['r2d_capable'])[['stargazers', 'watchers',  'forks']].sem().T)\n",
    "plt.xlabel('')\n",
    "plt.ylabel('GitHub Users')\n",
    "plt.title('Mean GitHub Engagement (CI=0.95)')\n",
    "plt.xticks(rotation=0)\n",
    "plt.tight_layout()\n",
    "plt.savefig('engagement_excl_lrg.png')"
   ]
  },
  {
   "cell_type": "markdown",
   "metadata": {},
   "source": [
    "Below is the number of repositories in each category. `r2d_capable` means the repo has at least 1 config file used by repo2docker."
   ]
  },
  {
   "cell_type": "code",
   "execution_count": 48,
   "metadata": {},
   "outputs": [
    {
     "data": {
      "text/plain": [
       "r2d_capable\n",
       "False    158\n",
       "True      36\n",
       "Name: stargazers, dtype: int64"
      ]
     },
     "execution_count": 48,
     "metadata": {},
     "output_type": "execute_result"
    }
   ],
   "source": [
    "main_repo.groupby('r2d_capable')['stargazers'].count()"
   ]
  },
  {
   "cell_type": "markdown",
   "metadata": {},
   "source": [
    "Below are the larger libraries we've excluded from our analysis"
   ]
  },
  {
   "cell_type": "code",
   "execution_count": 49,
   "metadata": {},
   "outputs": [],
   "source": [
    "larger_libraries = total_gh_metadata[total_gh_metadata['larger_library']]\n",
    "larger_libraries.to_csv('larger_libraries.csv')"
   ]
  },
  {
   "cell_type": "code",
   "execution_count": 50,
   "metadata": {},
   "outputs": [
    {
     "data": {
      "text/html": [
       "<div>\n",
       "<style scoped>\n",
       "    .dataframe tbody tr th:only-of-type {\n",
       "        vertical-align: middle;\n",
       "    }\n",
       "\n",
       "    .dataframe tbody tr th {\n",
       "        vertical-align: top;\n",
       "    }\n",
       "\n",
       "    .dataframe thead th {\n",
       "        text-align: right;\n",
       "    }\n",
       "</style>\n",
       "<table border=\"1\" class=\"dataframe\">\n",
       "  <thead>\n",
       "    <tr style=\"text-align: right;\">\n",
       "      <th></th>\n",
       "      <th>description</th>\n",
       "      <th>stargazers</th>\n",
       "      <th>watchers</th>\n",
       "      <th>forks</th>\n",
       "      <th>languages</th>\n",
       "      <th>repositoryTopics</th>\n",
       "      <th>n_languages</th>\n",
       "      <th>no_code</th>\n",
       "      <th>primary_language</th>\n",
       "      <th>Python</th>\n",
       "      <th>Julia</th>\n",
       "      <th>R</th>\n",
       "      <th>r2d_capable</th>\n",
       "      <th>larger_library</th>\n",
       "    </tr>\n",
       "  </thead>\n",
       "  <tbody>\n",
       "    <tr>\n",
       "      <th>https://github.com/neulab/dynet-benchmark/tree/autobatch</th>\n",
       "      <td>Benchmarks for DyNet</td>\n",
       "      <td>52</td>\n",
       "      <td>14</td>\n",
       "      <td>12</td>\n",
       "      <td>[Python, C++, Shell, Makefile]</td>\n",
       "      <td>[]</td>\n",
       "      <td>4</td>\n",
       "      <td>False</td>\n",
       "      <td>Python</td>\n",
       "      <td>True</td>\n",
       "      <td>False</td>\n",
       "      <td>False</td>\n",
       "      <td>False</td>\n",
       "      <td>True</td>\n",
       "    </tr>\n",
       "    <tr>\n",
       "      <th>https://github.com/tensorflow/models/tree/master/research/pcl_rl</th>\n",
       "      <td>Models and examples built with TensorFlow</td>\n",
       "      <td>37062</td>\n",
       "      <td>2420</td>\n",
       "      <td>19989</td>\n",
       "      <td>[Python, Jupyter Notebook, C++, HTML, Shell, J...</td>\n",
       "      <td>[]</td>\n",
       "      <td>8</td>\n",
       "      <td>False</td>\n",
       "      <td>Python</td>\n",
       "      <td>True</td>\n",
       "      <td>False</td>\n",
       "      <td>False</td>\n",
       "      <td>False</td>\n",
       "      <td>True</td>\n",
       "    </tr>\n",
       "    <tr>\n",
       "      <th>https://github.com/tensorflow/models/tree/master/research/rebar</th>\n",
       "      <td>Models and examples built with TensorFlow</td>\n",
       "      <td>37062</td>\n",
       "      <td>2420</td>\n",
       "      <td>19989</td>\n",
       "      <td>[Python, Jupyter Notebook, C++, HTML, Shell, J...</td>\n",
       "      <td>[]</td>\n",
       "      <td>8</td>\n",
       "      <td>False</td>\n",
       "      <td>Python</td>\n",
       "      <td>True</td>\n",
       "      <td>False</td>\n",
       "      <td>False</td>\n",
       "      <td>False</td>\n",
       "      <td>True</td>\n",
       "    </tr>\n",
       "  </tbody>\n",
       "</table>\n",
       "</div>"
      ],
      "text/plain": [
       "                                                                                  description  \\\n",
       "https://github.com/neulab/dynet-benchmark/tree/...                       Benchmarks for DyNet   \n",
       "https://github.com/tensorflow/models/tree/maste...  Models and examples built with TensorFlow   \n",
       "https://github.com/tensorflow/models/tree/maste...  Models and examples built with TensorFlow   \n",
       "\n",
       "                                                    stargazers  watchers  \\\n",
       "https://github.com/neulab/dynet-benchmark/tree/...          52        14   \n",
       "https://github.com/tensorflow/models/tree/maste...       37062      2420   \n",
       "https://github.com/tensorflow/models/tree/maste...       37062      2420   \n",
       "\n",
       "                                                    forks  \\\n",
       "https://github.com/neulab/dynet-benchmark/tree/...     12   \n",
       "https://github.com/tensorflow/models/tree/maste...  19989   \n",
       "https://github.com/tensorflow/models/tree/maste...  19989   \n",
       "\n",
       "                                                                                            languages  \\\n",
       "https://github.com/neulab/dynet-benchmark/tree/...                     [Python, C++, Shell, Makefile]   \n",
       "https://github.com/tensorflow/models/tree/maste...  [Python, Jupyter Notebook, C++, HTML, Shell, J...   \n",
       "https://github.com/tensorflow/models/tree/maste...  [Python, Jupyter Notebook, C++, HTML, Shell, J...   \n",
       "\n",
       "                                                   repositoryTopics  \\\n",
       "https://github.com/neulab/dynet-benchmark/tree/...               []   \n",
       "https://github.com/tensorflow/models/tree/maste...               []   \n",
       "https://github.com/tensorflow/models/tree/maste...               []   \n",
       "\n",
       "                                                    n_languages  no_code  \\\n",
       "https://github.com/neulab/dynet-benchmark/tree/...            4    False   \n",
       "https://github.com/tensorflow/models/tree/maste...            8    False   \n",
       "https://github.com/tensorflow/models/tree/maste...            8    False   \n",
       "\n",
       "                                                   primary_language  Python  \\\n",
       "https://github.com/neulab/dynet-benchmark/tree/...           Python    True   \n",
       "https://github.com/tensorflow/models/tree/maste...           Python    True   \n",
       "https://github.com/tensorflow/models/tree/maste...           Python    True   \n",
       "\n",
       "                                                    Julia      R  r2d_capable  \\\n",
       "https://github.com/neulab/dynet-benchmark/tree/...  False  False        False   \n",
       "https://github.com/tensorflow/models/tree/maste...  False  False        False   \n",
       "https://github.com/tensorflow/models/tree/maste...  False  False        False   \n",
       "\n",
       "                                                    larger_library  \n",
       "https://github.com/neulab/dynet-benchmark/tree/...            True  \n",
       "https://github.com/tensorflow/models/tree/maste...            True  \n",
       "https://github.com/tensorflow/models/tree/maste...            True  "
      ]
     },
     "execution_count": 50,
     "metadata": {},
     "output_type": "execute_result"
    }
   ],
   "source": [
    "larger_libraries"
   ]
  },
  {
   "cell_type": "markdown",
   "metadata": {},
   "source": [
    "For simplicity, we also plot a boxplot to highlight these outliers."
   ]
  },
  {
   "cell_type": "code",
   "execution_count": 60,
   "metadata": {},
   "outputs": [
    {
     "data": {
      "image/png": "[encoded data removed]",
      "text/plain": [
       "<Figure size 432x288 with 1 Axes>"
      ]
     },
     "metadata": {},
     "output_type": "display_data"
    }
   ],
   "source": [
    "sns.boxplot(data=total_gh_metadata[['forks', 'stargazers', 'watchers']], fliersize=5, width=.5)\n",
    "plt.title('Boxplot of Number of Users by GitHub Metric')\n",
    "plt.tight_layout()\n",
    "plt.savefig('gh_metrics_boxplot.png')"
   ]
  }
 ],
 "metadata": {
  "kernelspec": {
   "display_name": "Python [default]",
   "language": "python",
   "name": "python3"
  },
  "language_info": {
   "codemirror_mode": {
    "name": "ipython",
    "version": 3
   },
   "file_extension": ".py",
   "mimetype": "text/x-python",
   "name": "python",
   "nbconvert_exporter": "python",
   "pygments_lexer": "ipython3",
   "version": "3.6.5"
  }
 },
 "nbformat": 4,
 "nbformat_minor": 2
}
